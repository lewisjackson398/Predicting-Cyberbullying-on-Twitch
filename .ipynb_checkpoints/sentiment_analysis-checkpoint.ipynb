{
 "cells": [
  {
   "cell_type": "code",
   "execution_count": 13,
   "metadata": {},
   "outputs": [
    {
     "name": "stdout",
     "output_type": "stream",
     "text": [
      "                                                   Chat              Label\n",
      "0                            is fatty streaming tonight      cyberbullying\n",
      "1                               is still fat and boring      cyberbullying\n",
      "2        lets be real if a girl watch twitch she is fat      cyberbullying\n",
      "3                              good morning fatty fucks      cyberbullying\n",
      "4     my lab manager is a piece of shit tried to tak...      cyberbullying\n",
      "...                                                 ...                ...\n",
      "1195            drunk is my favorate thing to watch now  non-cyberbullying\n",
      "1196             i litterly just got back what happened  non-cyberbullying\n",
      "1197                       Rather funny than gnomes LUL  non-cyberbullying\n",
      "1198                                  yeah shes smashed  non-cyberbullying\n",
      "1199  Haha I just cant even right now this is soo mu...  non-cyberbullying\n",
      "\n",
      "[1200 rows x 2 columns]\n"
     ]
    }
   ],
   "source": [
    "import numpy as np\n",
    "import pandas as pd\n",
    "\n",
    "data = pd.read_csv(\"test_data.csv\")\n",
    "print(data)"
   ]
  },
  {
   "cell_type": "code",
   "execution_count": 14,
   "metadata": {},
   "outputs": [
    {
     "data": {
      "text/html": [
       "<div>\n",
       "<style scoped>\n",
       "    .dataframe tbody tr th:only-of-type {\n",
       "        vertical-align: middle;\n",
       "    }\n",
       "\n",
       "    .dataframe tbody tr th {\n",
       "        vertical-align: top;\n",
       "    }\n",
       "\n",
       "    .dataframe thead th {\n",
       "        text-align: right;\n",
       "    }\n",
       "</style>\n",
       "<table border=\"1\" class=\"dataframe\">\n",
       "  <thead>\n",
       "    <tr style=\"text-align: right;\">\n",
       "      <th></th>\n",
       "      <th>Chat</th>\n",
       "      <th>Label</th>\n",
       "      <th>polarity</th>\n",
       "      <th>subjectivity</th>\n",
       "    </tr>\n",
       "  </thead>\n",
       "  <tbody>\n",
       "    <tr>\n",
       "      <td>0</td>\n",
       "      <td>is fatty streaming tonight</td>\n",
       "      <td>cyberbullying</td>\n",
       "      <td>-0.200000</td>\n",
       "      <td>0.400000</td>\n",
       "    </tr>\n",
       "    <tr>\n",
       "      <td>1</td>\n",
       "      <td>is still fat and boring</td>\n",
       "      <td>cyberbullying</td>\n",
       "      <td>-1.000000</td>\n",
       "      <td>1.000000</td>\n",
       "    </tr>\n",
       "    <tr>\n",
       "      <td>2</td>\n",
       "      <td>lets be real if a girl watch twitch she is fat</td>\n",
       "      <td>cyberbullying</td>\n",
       "      <td>0.200000</td>\n",
       "      <td>0.300000</td>\n",
       "    </tr>\n",
       "    <tr>\n",
       "      <td>3</td>\n",
       "      <td>good morning fatty fucks</td>\n",
       "      <td>cyberbullying</td>\n",
       "      <td>0.250000</td>\n",
       "      <td>0.500000</td>\n",
       "    </tr>\n",
       "    <tr>\n",
       "      <td>4</td>\n",
       "      <td>my lab manager is a piece of shit tried to tak...</td>\n",
       "      <td>cyberbullying</td>\n",
       "      <td>-0.083333</td>\n",
       "      <td>0.416667</td>\n",
       "    </tr>\n",
       "    <tr>\n",
       "      <td>...</td>\n",
       "      <td>...</td>\n",
       "      <td>...</td>\n",
       "      <td>...</td>\n",
       "      <td>...</td>\n",
       "    </tr>\n",
       "    <tr>\n",
       "      <td>1195</td>\n",
       "      <td>drunk is my favorate thing to watch now</td>\n",
       "      <td>non-cyberbullying</td>\n",
       "      <td>-0.500000</td>\n",
       "      <td>1.000000</td>\n",
       "    </tr>\n",
       "    <tr>\n",
       "      <td>1196</td>\n",
       "      <td>i litterly just got back what happened</td>\n",
       "      <td>non-cyberbullying</td>\n",
       "      <td>0.000000</td>\n",
       "      <td>0.000000</td>\n",
       "    </tr>\n",
       "    <tr>\n",
       "      <td>1197</td>\n",
       "      <td>Rather funny than gnomes LUL</td>\n",
       "      <td>non-cyberbullying</td>\n",
       "      <td>0.250000</td>\n",
       "      <td>1.000000</td>\n",
       "    </tr>\n",
       "    <tr>\n",
       "      <td>1198</td>\n",
       "      <td>yeah shes smashed</td>\n",
       "      <td>non-cyberbullying</td>\n",
       "      <td>0.000000</td>\n",
       "      <td>0.000000</td>\n",
       "    </tr>\n",
       "    <tr>\n",
       "      <td>1199</td>\n",
       "      <td>Haha I just cant even right now this is soo mu...</td>\n",
       "      <td>non-cyberbullying</td>\n",
       "      <td>0.317857</td>\n",
       "      <td>0.592857</td>\n",
       "    </tr>\n",
       "  </tbody>\n",
       "</table>\n",
       "<p>1200 rows × 4 columns</p>\n",
       "</div>"
      ],
      "text/plain": [
       "                                                   Chat              Label  \\\n",
       "0                            is fatty streaming tonight      cyberbullying   \n",
       "1                               is still fat and boring      cyberbullying   \n",
       "2        lets be real if a girl watch twitch she is fat      cyberbullying   \n",
       "3                              good morning fatty fucks      cyberbullying   \n",
       "4     my lab manager is a piece of shit tried to tak...      cyberbullying   \n",
       "...                                                 ...                ...   \n",
       "1195            drunk is my favorate thing to watch now  non-cyberbullying   \n",
       "1196             i litterly just got back what happened  non-cyberbullying   \n",
       "1197                       Rather funny than gnomes LUL  non-cyberbullying   \n",
       "1198                                  yeah shes smashed  non-cyberbullying   \n",
       "1199  Haha I just cant even right now this is soo mu...  non-cyberbullying   \n",
       "\n",
       "      polarity  subjectivity  \n",
       "0    -0.200000      0.400000  \n",
       "1    -1.000000      1.000000  \n",
       "2     0.200000      0.300000  \n",
       "3     0.250000      0.500000  \n",
       "4    -0.083333      0.416667  \n",
       "...        ...           ...  \n",
       "1195 -0.500000      1.000000  \n",
       "1196  0.000000      0.000000  \n",
       "1197  0.250000      1.000000  \n",
       "1198  0.000000      0.000000  \n",
       "1199  0.317857      0.592857  \n",
       "\n",
       "[1200 rows x 4 columns]"
      ]
     },
     "execution_count": 14,
     "metadata": {},
     "output_type": "execute_result"
    }
   ],
   "source": [
    "# Create quick lambda functions to find the polarity and subjectivity of each routine\n",
    "# Terminal / Anaconda Navigator: conda install -c conda-forge textblob\n",
    "from textblob import TextBlob\n",
    "\n",
    "pol = lambda x: TextBlob(x).sentiment.polarity\n",
    "sub = lambda x: TextBlob(x).sentiment.subjectivity\n",
    "\n",
    "data['polarity'] = data['Chat'].apply(pol)\n",
    "data['subjectivity'] = data['Chat'].apply(sub)\n",
    "data"
   ]
  },
  {
   "cell_type": "code",
   "execution_count": 15,
   "metadata": {},
   "outputs": [
    {
     "data": {
      "image/png": "[encoded data removed]",
      "text/plain": [
       "<Figure size 720x576 with 1 Axes>"
      ]
     },
     "metadata": {
      "needs_background": "light"
     },
     "output_type": "display_data"
    }
   ],
   "source": [
    "# Let's plot the results\n",
    "import matplotlib.pyplot as plt\n",
    "\n",
    "plt.rcParams['figure.figsize'] = [10, 8]\n",
    "\n",
    "mean_x = np.mean(data.polarity)\n",
    "mean_y = np.mean(data.subjectivity)\n",
    "\n",
    "for index, label in enumerate(data.index):\n",
    "    x = data.polarity = mean_x\n",
    "    y = data.subjectivity = mean_y\n",
    "    plt.scatter(x, y, color='blue')\n",
    "    plt.xlim(-1, 1) \n",
    "    plt.ylim(-1, 1) \n",
    "    \n",
    "plt.title('Sentiment Analysis', fontsize=20)\n",
    "plt.xlabel('<-- Negative -------- Positive -->', fontsize=15)\n",
    "plt.ylabel('<-- Facts -------- Opinions -->', fontsize=15)\n",
    "\n",
    "plt.show()"
   ]
  },
  {
   "cell_type": "code",
   "execution_count": 16,
   "metadata": {},
   "outputs": [
    {
     "name": "stdout",
     "output_type": "stream",
     "text": [
      "-0.04758458216166676\n",
      "0.38898343685634806\n"
     ]
    }
   ],
   "source": [
    "print(np.mean(data.polarity))\n",
    "print(np.mean(data.subjectivity))"
   ]
  },
  {
   "cell_type": "code",
   "execution_count": null,
   "metadata": {},
   "outputs": [],
   "source": []
  }
 ],
 "metadata": {
  "kernelspec": {
   "display_name": "Python 3",
   "language": "python",
   "name": "python3"
  },
  "language_info": {
   "codemirror_mode": {
    "name": "ipython",
    "version": 3
   },
   "file_extension": ".py",
   "mimetype": "text/x-python",
   "name": "python",
   "nbconvert_exporter": "python",
   "pygments_lexer": "ipython3",
   "version": "3.7.4"
  }
 },
 "nbformat": 4,
 "nbformat_minor": 2
}
