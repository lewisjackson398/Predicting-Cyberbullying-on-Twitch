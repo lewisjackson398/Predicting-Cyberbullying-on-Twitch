{
 "cells": [
  {
   "cell_type": "code",
   "execution_count": 82,
   "metadata": {},
   "outputs": [
    {
     "name": "stdout",
     "output_type": "stream",
     "text": [
      "                                                  Chat              Label\n",
      "0                                  who the fucks emong      cyberbullying\n",
      "1                             BAN THIS FUCKING R-TARD!      cyberbullying\n",
      "2                    USE YOUR FUCKING FLASHBANG PLEASE      cyberbullying\n",
      "3                     DOC JUST FUCKIN DO IT OKAY 4Head      cyberbullying\n",
      "4                  will you shut the fuck up for a bit      cyberbullying\n",
      "..                                                 ...                ...\n",
      "995                        You are gorgeous I love you  non-cyberbullying\n",
      "996            And you can show your dog your <3 <3 <3  non-cyberbullying\n",
      "997                                   u look fantastic  non-cyberbullying\n",
      "998  you look like scarlet Johnson i bet you here t...  non-cyberbullying\n",
      "999      you're looking so great, love your streams <3  non-cyberbullying\n",
      "\n",
      "[1000 rows x 2 columns]\n"
     ]
    }
   ],
   "source": [
    "import numpy as np\n",
    "import pandas as pd\n",
    "\n",
    "df = pd.read_csv(\"test_data.csv\")\n",
    "print(df)"
   ]
  },
  {
   "cell_type": "code",
   "execution_count": 83,
   "metadata": {},
   "outputs": [
    {
     "data": {
      "text/html": [
       "<div>\n",
       "<style scoped>\n",
       "    .dataframe tbody tr th:only-of-type {\n",
       "        vertical-align: middle;\n",
       "    }\n",
       "\n",
       "    .dataframe tbody tr th {\n",
       "        vertical-align: top;\n",
       "    }\n",
       "\n",
       "    .dataframe thead th {\n",
       "        text-align: right;\n",
       "    }\n",
       "</style>\n",
       "<table border=\"1\" class=\"dataframe\">\n",
       "  <thead>\n",
       "    <tr style=\"text-align: right;\">\n",
       "      <th></th>\n",
       "      <th>Chat</th>\n",
       "      <th>Label</th>\n",
       "      <th>polarity</th>\n",
       "      <th>subjectivity</th>\n",
       "    </tr>\n",
       "  </thead>\n",
       "  <tbody>\n",
       "    <tr>\n",
       "      <td>0</td>\n",
       "      <td>who the fucks emong</td>\n",
       "      <td>cyberbullying</td>\n",
       "      <td>0.000000</td>\n",
       "      <td>0.000000</td>\n",
       "    </tr>\n",
       "    <tr>\n",
       "      <td>1</td>\n",
       "      <td>BAN THIS FUCKING R-TARD!</td>\n",
       "      <td>cyberbullying</td>\n",
       "      <td>-0.750000</td>\n",
       "      <td>0.800000</td>\n",
       "    </tr>\n",
       "    <tr>\n",
       "      <td>2</td>\n",
       "      <td>USE YOUR FUCKING FLASHBANG PLEASE</td>\n",
       "      <td>cyberbullying</td>\n",
       "      <td>-0.600000</td>\n",
       "      <td>0.800000</td>\n",
       "    </tr>\n",
       "    <tr>\n",
       "      <td>3</td>\n",
       "      <td>DOC JUST FUCKIN DO IT OKAY 4Head</td>\n",
       "      <td>cyberbullying</td>\n",
       "      <td>0.500000</td>\n",
       "      <td>0.500000</td>\n",
       "    </tr>\n",
       "    <tr>\n",
       "      <td>4</td>\n",
       "      <td>will you shut the fuck up for a bit</td>\n",
       "      <td>cyberbullying</td>\n",
       "      <td>-0.400000</td>\n",
       "      <td>0.600000</td>\n",
       "    </tr>\n",
       "    <tr>\n",
       "      <td>...</td>\n",
       "      <td>...</td>\n",
       "      <td>...</td>\n",
       "      <td>...</td>\n",
       "      <td>...</td>\n",
       "    </tr>\n",
       "    <tr>\n",
       "      <td>995</td>\n",
       "      <td>You are gorgeous I love you</td>\n",
       "      <td>non-cyberbullying</td>\n",
       "      <td>0.600000</td>\n",
       "      <td>0.750000</td>\n",
       "    </tr>\n",
       "    <tr>\n",
       "      <td>996</td>\n",
       "      <td>And you can show your dog your &lt;3 &lt;3 &lt;3</td>\n",
       "      <td>non-cyberbullying</td>\n",
       "      <td>1.000000</td>\n",
       "      <td>1.000000</td>\n",
       "    </tr>\n",
       "    <tr>\n",
       "      <td>997</td>\n",
       "      <td>u look fantastic</td>\n",
       "      <td>non-cyberbullying</td>\n",
       "      <td>0.400000</td>\n",
       "      <td>0.900000</td>\n",
       "    </tr>\n",
       "    <tr>\n",
       "      <td>998</td>\n",
       "      <td>you look like scarlet Johnson i bet you here t...</td>\n",
       "      <td>non-cyberbullying</td>\n",
       "      <td>-0.250000</td>\n",
       "      <td>0.562500</td>\n",
       "    </tr>\n",
       "    <tr>\n",
       "      <td>999</td>\n",
       "      <td>you're looking so great, love your streams &lt;3</td>\n",
       "      <td>non-cyberbullying</td>\n",
       "      <td>0.766667</td>\n",
       "      <td>0.783333</td>\n",
       "    </tr>\n",
       "  </tbody>\n",
       "</table>\n",
       "<p>1000 rows × 4 columns</p>\n",
       "</div>"
      ],
      "text/plain": [
       "                                                  Chat              Label  \\\n",
       "0                                  who the fucks emong      cyberbullying   \n",
       "1                             BAN THIS FUCKING R-TARD!      cyberbullying   \n",
       "2                    USE YOUR FUCKING FLASHBANG PLEASE      cyberbullying   \n",
       "3                     DOC JUST FUCKIN DO IT OKAY 4Head      cyberbullying   \n",
       "4                  will you shut the fuck up for a bit      cyberbullying   \n",
       "..                                                 ...                ...   \n",
       "995                        You are gorgeous I love you  non-cyberbullying   \n",
       "996            And you can show your dog your <3 <3 <3  non-cyberbullying   \n",
       "997                                   u look fantastic  non-cyberbullying   \n",
       "998  you look like scarlet Johnson i bet you here t...  non-cyberbullying   \n",
       "999      you're looking so great, love your streams <3  non-cyberbullying   \n",
       "\n",
       "     polarity  subjectivity  \n",
       "0    0.000000      0.000000  \n",
       "1   -0.750000      0.800000  \n",
       "2   -0.600000      0.800000  \n",
       "3    0.500000      0.500000  \n",
       "4   -0.400000      0.600000  \n",
       "..        ...           ...  \n",
       "995  0.600000      0.750000  \n",
       "996  1.000000      1.000000  \n",
       "997  0.400000      0.900000  \n",
       "998 -0.250000      0.562500  \n",
       "999  0.766667      0.783333  \n",
       "\n",
       "[1000 rows x 4 columns]"
      ]
     },
     "execution_count": 83,
     "metadata": {},
     "output_type": "execute_result"
    }
   ],
   "source": [
    "# Create quick lambda functions to find the polarity and subjectivity of each routine\n",
    "# Terminal / Anaconda Navigator: conda install -c conda-forge textblob\n",
    "from textblob import TextBlob\n",
    "\n",
    "pol = lambda x: TextBlob(x).sentiment.polarity\n",
    "sub = lambda x: TextBlob(x).sentiment.subjectivity\n",
    "\n",
    "data['polarity'] = data['Chat'].apply(pol)\n",
    "data['subjectivity'] = data['Chat'].apply(sub)\n",
    "data"
   ]
  },
  {
   "cell_type": "code",
   "execution_count": 84,
   "metadata": {},
   "outputs": [
    {
     "data": {
      "image/png": "[encoded data removed]",
      "text/plain": [
       "<Figure size 720x576 with 1 Axes>"
      ]
     },
     "metadata": {
      "needs_background": "light"
     },
     "output_type": "display_data"
    }
   ],
   "source": [
    "# Let's plot the results\n",
    "import matplotlib.pyplot as plt\n",
    "\n",
    "plt.rcParams['figure.figsize'] = [10, 8]\n",
    "\n",
    "mean_x = np.mean(data.polarity)\n",
    "mean_y = np.mean(data.subjectivity)\n",
    "\n",
    "for index, label in enumerate(data.index):\n",
    "    x = data.polarity = mean_x\n",
    "    y = data.subjectivity = mean_y\n",
    "    plt.scatter(x, y, color='blue')\n",
    "    plt.xlim(.0, .08) \n",
    "    \n",
    "plt.title('Sentiment Analysis', fontsize=20)\n",
    "plt.xlabel('<-- Negative -------- Positive -->', fontsize=15)\n",
    "plt.ylabel('<-- Facts -------- Opinions -->', fontsize=15)\n",
    "\n",
    "plt.show()"
   ]
  },
  {
   "cell_type": "code",
   "execution_count": 85,
   "metadata": {},
   "outputs": [
    {
     "name": "stdout",
     "output_type": "stream",
     "text": [
      "0.06119917593402092\n",
      "0.5079568588356018\n"
     ]
    }
   ],
   "source": [
    "print(np.mean(data.polarity))\n",
    "print(np.mean(data.subjectivity))"
   ]
  },
  {
   "cell_type": "code",
   "execution_count": null,
   "metadata": {},
   "outputs": [],
   "source": []
  }
 ],
 "metadata": {
  "kernelspec": {
   "display_name": "Python 3",
   "language": "python",
   "name": "python3"
  },
  "language_info": {
   "codemirror_mode": {
    "name": "ipython",
    "version": 3
   },
   "file_extension": ".py",
   "mimetype": "text/x-python",
   "name": "python",
   "nbconvert_exporter": "python",
   "pygments_lexer": "ipython3",
   "version": "3.7.4"
  }
 },
 "nbformat": 4,
 "nbformat_minor": 2
}
